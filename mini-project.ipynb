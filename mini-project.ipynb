{
 "cells": [
  {
   "cell_type": "code",
   "execution_count": null,
   "metadata": {
    "_cell_guid": "28231d25-b9ef-4bd3-afc1-9a921576b990",
    "_uuid": "7adc60e7-9674-44fe-abcd-b24e75e30df1",
    "collapsed": false,
    "execution": {
     "iopub.execute_input": "2024-06-02T18:31:23.746362Z",
     "iopub.status.busy": "2024-06-02T18:31:23.745934Z",
     "iopub.status.idle": "2024-06-02T18:31:30.919633Z",
     "shell.execute_reply": "2024-06-02T18:31:30.918672Z",
     "shell.execute_reply.started": "2024-06-02T18:31:23.746298Z"
    },
    "jupyter": {
     "outputs_hidden": false
    }
   },
   "outputs": [],
   "source": [
    "!pip install -U --upgrade tensorflow"
   ]
  },
  {
   "cell_type": "code",
   "execution_count": 2,
   "metadata": {
    "_cell_guid": "19a11dc2-4721-4b6d-b92f-c52c0084036e",
    "_uuid": "aaafbad0-4393-4d75-9d15-3d5544b2cc7d",
    "collapsed": false,
    "execution": {
     "iopub.execute_input": "2024-06-02T18:31:30.922597Z",
     "iopub.status.busy": "2024-06-02T18:31:30.922312Z",
     "iopub.status.idle": "2024-06-02T18:31:30.928062Z",
     "shell.execute_reply": "2024-06-02T18:31:30.927068Z",
     "shell.execute_reply.started": "2024-06-02T18:31:30.922540Z"
    },
    "jupyter": {
     "outputs_hidden": false
    }
   },
   "outputs": [],
   "source": [
    "# from tensorflow_docs.vis import embed\n",
    "from tensorflow import keras\n",
    "#from imutils import paths\n",
    "\n",
    "import matplotlib.pyplot as plt\n",
    "import tensorflow as tf\n",
    "import pandas as pd\n",
    "import numpy as np\n",
    "import imageio\n",
    "import cv2\n",
    "import os\n",
    "import time"
   ]
  },
  {
   "cell_type": "code",
   "execution_count": null,
   "metadata": {
    "_cell_guid": "7466fedd-25d2-40c6-ba6b-a5fbbc9a5277",
    "_uuid": "cda00000-bc76-4c2d-8b98-9860cd7c4c9f",
    "collapsed": false,
    "execution": {
     "iopub.execute_input": "2024-06-02T18:31:30.929615Z",
     "iopub.status.busy": "2024-06-02T18:31:30.929315Z",
     "iopub.status.idle": "2024-06-02T18:31:30.946891Z",
     "shell.execute_reply": "2024-06-02T18:31:30.945965Z",
     "shell.execute_reply.started": "2024-06-02T18:31:30.929563Z"
    },
    "jupyter": {
     "outputs_hidden": false
    }
   },
   "outputs": [],
   "source": [
    "DATA_FOLDER = '/kaggle/input/deepfake-detection-challenge'\n",
    "TRAIN_SAMPLE_FOLDER = '/kaggle/input/deepfake-detection-challenge/train_sample_videos'\n",
    "TEST_FOLDER = '/kaggle/input/deepfake-detection-challenge/test_videos'\n",
    "\n",
    "print(f\"Train samples: {len(os.listdir(os.path.join(DATA_FOLDER, TRAIN_SAMPLE_FOLDER)))}\")\n",
    "print(f\"Test samples: {len(os.listdir(os.path.join(DATA_FOLDER, TEST_FOLDER)))}\")"
   ]
  },
  {
   "cell_type": "code",
   "execution_count": null,
   "metadata": {
    "_cell_guid": "c8946d8d-384a-47ef-98dd-ba751210c47a",
    "_uuid": "e6842ed9-b85b-484c-8a23-2f08bb56fd27",
    "collapsed": false,
    "execution": {
     "iopub.execute_input": "2024-06-02T18:31:30.948529Z",
     "iopub.status.busy": "2024-06-02T18:31:30.948220Z",
     "iopub.status.idle": "2024-06-02T18:31:31.135267Z",
     "shell.execute_reply": "2024-06-02T18:31:31.134378Z",
     "shell.execute_reply.started": "2024-06-02T18:31:30.948471Z"
    },
    "jupyter": {
     "outputs_hidden": false
    }
   },
   "outputs": [],
   "source": [
    "train_sample_metadata = pd.read_json('../input/deepfake-detection-challenge/train_sample_videos/metadata.json').T\n",
    "train_sample_metadata.head()"
   ]
  },
  {
   "cell_type": "code",
   "execution_count": null,
   "metadata": {
    "_cell_guid": "35b5dcc0-f201-4100-8f8d-50ace14956fa",
    "_uuid": "a53a8142-a238-49af-8157-7b9d4df55b9b",
    "collapsed": false,
    "execution": {
     "iopub.execute_input": "2024-06-02T18:31:31.139306Z",
     "iopub.status.busy": "2024-06-02T18:31:31.139062Z",
     "iopub.status.idle": "2024-06-02T18:31:31.413064Z",
     "shell.execute_reply": "2024-06-02T18:31:31.412017Z",
     "shell.execute_reply.started": "2024-06-02T18:31:31.139265Z"
    },
    "jupyter": {
     "outputs_hidden": false
    }
   },
   "outputs": [],
   "source": [
    "train_sample_metadata.groupby('label')['label'].count().plot(figsize=(15, 5), kind='bar', title='Distribution of Labels in the Training Set')\n",
    "plt.show()"
   ]
  },
  {
   "cell_type": "code",
   "execution_count": null,
   "metadata": {
    "_cell_guid": "82b222ed-f6b4-44ad-88fa-6c91d60efed1",
    "_uuid": "5be5da10-dedc-44aa-8138-e844066efcf8",
    "collapsed": false,
    "execution": {
     "iopub.execute_input": "2024-06-02T18:31:31.417472Z",
     "iopub.status.busy": "2024-06-02T18:31:31.417059Z",
     "iopub.status.idle": "2024-06-02T18:31:31.424908Z",
     "shell.execute_reply": "2024-06-02T18:31:31.424050Z",
     "shell.execute_reply.started": "2024-06-02T18:31:31.417414Z"
    },
    "jupyter": {
     "outputs_hidden": false
    }
   },
   "outputs": [],
   "source": [
    "train_sample_metadata.shape"
   ]
  },
  {
   "cell_type": "code",
   "execution_count": null,
   "metadata": {
    "_cell_guid": "48dade3d-5b6a-4d1f-9e16-c4f53c17a5a1",
    "_uuid": "f6383151-e853-4497-89df-379819b618f0",
    "collapsed": false,
    "execution": {
     "iopub.execute_input": "2024-06-02T18:31:31.426703Z",
     "iopub.status.busy": "2024-06-02T18:31:31.426246Z",
     "iopub.status.idle": "2024-06-02T18:31:31.435721Z",
     "shell.execute_reply": "2024-06-02T18:31:31.434847Z",
     "shell.execute_reply.started": "2024-06-02T18:31:31.426651Z"
    },
    "jupyter": {
     "outputs_hidden": false
    }
   },
   "outputs": [],
   "source": [
    "fake_train_sample_video = list(train_sample_metadata.loc[train_sample_metadata.label=='FAKE'].sample(10).index)\n",
    "fake_train_sample_video"
   ]
  },
  {
   "cell_type": "code",
   "execution_count": 8,
   "metadata": {
    "_cell_guid": "55147f43-ce9a-42a0-896a-d6f655c94d29",
    "_uuid": "5973b30e-061c-488e-b50b-438a3ac7838e",
    "collapsed": false,
    "execution": {
     "iopub.execute_input": "2024-06-02T18:31:31.437802Z",
     "iopub.status.busy": "2024-06-02T18:31:31.437192Z",
     "iopub.status.idle": "2024-06-02T18:31:31.445543Z",
     "shell.execute_reply": "2024-06-02T18:31:31.444417Z",
     "shell.execute_reply.started": "2024-06-02T18:31:31.437460Z"
    },
    "jupyter": {
     "outputs_hidden": false
    }
   },
   "outputs": [],
   "source": [
    "def display_image_from_video(video_path):\n",
    "    \n",
    "    capture_image = cv2.VideoCapture(video_path) \n",
    "    ret, frame = capture_image.read()\n",
    "    fig = plt.figure(figsize=(10,10))\n",
    "    ax = fig.add_subplot(111)\n",
    "    frame = cv2.cvtColor(frame, cv2.COLOR_BGR2RGB)\n",
    "    ax.imshow(frame)"
   ]
  },
  {
   "cell_type": "code",
   "execution_count": null,
   "metadata": {
    "_cell_guid": "61cf398b-3f21-4d4c-a02a-adb400ff310b",
    "_uuid": "7b68d404-49f9-47db-93e9-bc7bf1112260",
    "collapsed": false,
    "execution": {
     "iopub.execute_input": "2024-06-02T18:31:31.447538Z",
     "iopub.status.busy": "2024-06-02T18:31:31.446918Z",
     "iopub.status.idle": "2024-06-02T18:31:36.898979Z",
     "shell.execute_reply": "2024-06-02T18:31:36.898201Z",
     "shell.execute_reply.started": "2024-06-02T18:31:31.447414Z"
    },
    "jupyter": {
     "outputs_hidden": false
    }
   },
   "outputs": [],
   "source": [
    "for video_file in fake_train_sample_video:\n",
    "    display_image_from_video(os.path.join(DATA_FOLDER, TRAIN_SAMPLE_FOLDER, video_file))"
   ]
  },
  {
   "cell_type": "code",
   "execution_count": null,
   "metadata": {
    "_cell_guid": "a4b77162-59b9-4c54-becb-d6bfbe8a7162",
    "_uuid": "0674cca4-c8c8-43db-bc5b-61ea287cc718",
    "collapsed": false,
    "execution": {
     "iopub.execute_input": "2024-06-02T18:31:36.901472Z",
     "iopub.status.busy": "2024-06-02T18:31:36.900790Z",
     "iopub.status.idle": "2024-06-02T18:31:36.912618Z",
     "shell.execute_reply": "2024-06-02T18:31:36.911738Z",
     "shell.execute_reply.started": "2024-06-02T18:31:36.901408Z"
    },
    "jupyter": {
     "outputs_hidden": false
    }
   },
   "outputs": [],
   "source": [
    "real_train_sample_video = list(train_sample_metadata.loc[train_sample_metadata.label=='REAL'].sample(3).index)\n",
    "real_train_sample_video"
   ]
  },
  {
   "cell_type": "code",
   "execution_count": null,
   "metadata": {
    "_cell_guid": "a86b9638-59a8-46f6-a788-10e385581d06",
    "_uuid": "0ae3e4dc-399f-4291-b097-edf4f6b64ccf",
    "collapsed": false,
    "execution": {
     "iopub.execute_input": "2024-06-02T18:31:36.914222Z",
     "iopub.status.busy": "2024-06-02T18:31:36.913952Z",
     "iopub.status.idle": "2024-06-02T18:31:38.830391Z",
     "shell.execute_reply": "2024-06-02T18:31:38.829513Z",
     "shell.execute_reply.started": "2024-06-02T18:31:36.914177Z"
    },
    "jupyter": {
     "outputs_hidden": false
    }
   },
   "outputs": [],
   "source": [
    "for video_file in real_train_sample_video:\n",
    "    display_image_from_video(os.path.join(DATA_FOLDER, TRAIN_SAMPLE_FOLDER, video_file))"
   ]
  },
  {
   "cell_type": "code",
   "execution_count": null,
   "metadata": {
    "_cell_guid": "cb511fe4-26d9-4aae-b5b0-6d8260954f41",
    "_uuid": "70a0cdbc-0323-4f18-9466-bb25d13dcdc9",
    "collapsed": false,
    "execution": {
     "iopub.execute_input": "2024-06-02T18:31:38.832281Z",
     "iopub.status.busy": "2024-06-02T18:31:38.831955Z",
     "iopub.status.idle": "2024-06-02T18:31:38.841355Z",
     "shell.execute_reply": "2024-06-02T18:31:38.840487Z",
     "shell.execute_reply.started": "2024-06-02T18:31:38.832224Z"
    },
    "jupyter": {
     "outputs_hidden": false
    }
   },
   "outputs": [],
   "source": [
    "train_sample_metadata['original'].value_counts()[0:5]"
   ]
  },
  {
   "cell_type": "code",
   "execution_count": 13,
   "metadata": {
    "_cell_guid": "0c2d2717-77b9-4a68-97c4-678de7c13b8b",
    "_uuid": "e9befce9-43e7-40c0-866d-ae97157386c9",
    "collapsed": false,
    "execution": {
     "iopub.execute_input": "2024-06-02T18:31:38.842923Z",
     "iopub.status.busy": "2024-06-02T18:31:38.842685Z",
     "iopub.status.idle": "2024-06-02T18:31:38.853591Z",
     "shell.execute_reply": "2024-06-02T18:31:38.852806Z",
     "shell.execute_reply.started": "2024-06-02T18:31:38.842876Z"
    },
    "jupyter": {
     "outputs_hidden": false
    }
   },
   "outputs": [],
   "source": [
    "def display_image_from_video_list(video_path_list, video_folder=TRAIN_SAMPLE_FOLDER):\n",
    "    \n",
    "    plt.figure()\n",
    "    fig, ax = plt.subplots(2,3,figsize=(16,8))\n",
    "    # we only show images extracted from the first 6 videos\n",
    "    for i, video_file in enumerate(video_path_list[0:6]):\n",
    "        video_path = os.path.join(DATA_FOLDER, video_folder,video_file)\n",
    "        capture_image = cv2.VideoCapture(video_path) \n",
    "        ret, frame = capture_image.read()\n",
    "        frame = cv2.cvtColor(frame, cv2.COLOR_BGR2RGB)\n",
    "        ax[i//3, i%3].imshow(frame)\n",
    "        ax[i//3, i%3].set_title(f\"Video: {video_file}\")\n",
    "        ax[i//3, i%3].axis('on')"
   ]
  },
  {
   "cell_type": "code",
   "execution_count": null,
   "metadata": {
    "_cell_guid": "af38e478-81a1-43a0-a82d-44f0a8bb91b7",
    "_uuid": "46060e33-8d17-48bd-9125-f9ed2d1b6dfe",
    "collapsed": false,
    "execution": {
     "iopub.execute_input": "2024-06-02T18:31:38.855660Z",
     "iopub.status.busy": "2024-06-02T18:31:38.855321Z",
     "iopub.status.idle": "2024-06-02T18:31:40.505123Z",
     "shell.execute_reply": "2024-06-02T18:31:40.504279Z",
     "shell.execute_reply.started": "2024-06-02T18:31:38.855600Z"
    },
    "jupyter": {
     "outputs_hidden": false
    }
   },
   "outputs": [],
   "source": [
    "same_original_fake_train_sample_video = list(train_sample_metadata.loc[train_sample_metadata.original=='atvmxvwyns.mp4'].index)\n",
    "display_image_from_video_list(same_original_fake_train_sample_video)"
   ]
  },
  {
   "cell_type": "code",
   "execution_count": 15,
   "metadata": {
    "_cell_guid": "59206471-c883-4b6f-9c90-8b2602502a20",
    "_uuid": "1149ebd1-9452-4934-bbfb-51f6071512d7",
    "collapsed": false,
    "execution": {
     "iopub.execute_input": "2024-06-02T18:31:40.507244Z",
     "iopub.status.busy": "2024-06-02T18:31:40.506696Z",
     "iopub.status.idle": "2024-06-02T18:31:40.514416Z",
     "shell.execute_reply": "2024-06-02T18:31:40.513643Z",
     "shell.execute_reply.started": "2024-06-02T18:31:40.507192Z"
    },
    "jupyter": {
     "outputs_hidden": false
    }
   },
   "outputs": [],
   "source": [
    "test_videos = pd.DataFrame(list(os.listdir(os.path.join(DATA_FOLDER, TEST_FOLDER))), columns=['video'])"
   ]
  },
  {
   "cell_type": "code",
   "execution_count": null,
   "metadata": {
    "_cell_guid": "c00f586d-0b40-4f12-bee7-a0d8120a6155",
    "_uuid": "6902411f-e767-4899-971e-9d7223129622",
    "collapsed": false,
    "execution": {
     "iopub.execute_input": "2024-06-02T18:31:40.516356Z",
     "iopub.status.busy": "2024-06-02T18:31:40.515816Z",
     "iopub.status.idle": "2024-06-02T18:31:40.528521Z",
     "shell.execute_reply": "2024-06-02T18:31:40.527649Z",
     "shell.execute_reply.started": "2024-06-02T18:31:40.516304Z"
    },
    "jupyter": {
     "outputs_hidden": false
    }
   },
   "outputs": [],
   "source": [
    "test_videos.head()"
   ]
  },
  {
   "cell_type": "code",
   "execution_count": null,
   "metadata": {
    "_cell_guid": "2e770761-62b2-417f-9f4d-46696051be88",
    "_uuid": "74813fb6-d8f0-4aee-a9d8-e72fd6d60cc0",
    "collapsed": false,
    "execution": {
     "iopub.execute_input": "2024-06-02T18:31:40.531505Z",
     "iopub.status.busy": "2024-06-02T18:31:40.530930Z",
     "iopub.status.idle": "2024-06-02T18:31:40.984483Z",
     "shell.execute_reply": "2024-06-02T18:31:40.983625Z",
     "shell.execute_reply.started": "2024-06-02T18:31:40.531201Z"
    },
    "jupyter": {
     "outputs_hidden": false
    }
   },
   "outputs": [],
   "source": [
    "display_image_from_video(os.path.join(DATA_FOLDER, TEST_FOLDER, test_videos.iloc[2].video))"
   ]
  },
  {
   "cell_type": "code",
   "execution_count": 18,
   "metadata": {
    "_cell_guid": "92595ff0-6b62-4c69-b7fb-468e50188dd2",
    "_uuid": "cf6cfd8c-10b3-4c27-958c-c135ebda3470",
    "collapsed": false,
    "execution": {
     "iopub.execute_input": "2024-06-02T18:31:40.986504Z",
     "iopub.status.busy": "2024-06-02T18:31:40.985993Z",
     "iopub.status.idle": "2024-06-02T18:31:40.993775Z",
     "shell.execute_reply": "2024-06-02T18:31:40.992884Z",
     "shell.execute_reply.started": "2024-06-02T18:31:40.986446Z"
    },
    "jupyter": {
     "outputs_hidden": false
    }
   },
   "outputs": [],
   "source": [
    "fake_videos = list(train_sample_metadata.loc[train_sample_metadata.label=='FAKE'].index)"
   ]
  },
  {
   "cell_type": "code",
   "execution_count": null,
   "metadata": {
    "_cell_guid": "b416ef48-005d-4163-be91-25b1edf26c70",
    "_uuid": "417cae96-533b-40fa-abfb-41403482c29e",
    "collapsed": false,
    "execution": {
     "iopub.execute_input": "2024-06-02T18:31:40.995654Z",
     "iopub.status.busy": "2024-06-02T18:31:40.995161Z",
     "iopub.status.idle": "2024-06-02T18:31:41.173997Z",
     "shell.execute_reply": "2024-06-02T18:31:41.168362Z",
     "shell.execute_reply.started": "2024-06-02T18:31:40.995599Z"
    },
    "jupyter": {
     "outputs_hidden": false
    }
   },
   "outputs": [],
   "source": [
    "from IPython.display import HTML\n",
    "from base64 import b64encode\n",
    "\n",
    "def play_video(video_file, subset=TRAIN_SAMPLE_FOLDER):\n",
    "    \n",
    "    video_url = open(os.path.join(DATA_FOLDER, subset,video_file),'rb').read()\n",
    "    data_url = \"data:video/mp4;base64,\" + b64encode(video_url).decode()\n",
    "    return HTML(\"\"\"<video width=500 controls><source src=\"%s\" type=\"video/mp4\"></video>\"\"\" % data_url)\n",
    "\n",
    "play_video(fake_videos[10])"
   ]
  },
  {
   "cell_type": "code",
   "execution_count": 20,
   "metadata": {
    "_cell_guid": "c18fda7f-6af6-4288-9941-34daebc42d26",
    "_uuid": "923d26e4-a05d-46c1-a5db-21d19ec76d0b",
    "collapsed": false,
    "execution": {
     "iopub.execute_input": "2024-06-02T18:31:41.176001Z",
     "iopub.status.busy": "2024-06-02T18:31:41.175673Z",
     "iopub.status.idle": "2024-06-02T18:31:41.180331Z",
     "shell.execute_reply": "2024-06-02T18:31:41.179583Z",
     "shell.execute_reply.started": "2024-06-02T18:31:41.175950Z"
    },
    "jupyter": {
     "outputs_hidden": false
    }
   },
   "outputs": [],
   "source": [
    "IMG_SIZE = 224\n",
    "BATCH_SIZE = 64\n",
    "EPOCHS = 10\n",
    "\n",
    "MAX_SEQ_LENGTH = 20\n",
    "NUM_FEATURES = 2048"
   ]
  },
  {
   "cell_type": "code",
   "execution_count": 21,
   "metadata": {
    "_cell_guid": "0823a08f-bb26-4966-9c87-20197d315514",
    "_uuid": "506e7a7e-c199-471c-8e8d-a2ae2f481173",
    "collapsed": false,
    "execution": {
     "iopub.execute_input": "2024-06-02T18:31:41.182238Z",
     "iopub.status.busy": "2024-06-02T18:31:41.181916Z",
     "iopub.status.idle": "2024-06-02T18:31:41.195777Z",
     "shell.execute_reply": "2024-06-02T18:31:41.194863Z",
     "shell.execute_reply.started": "2024-06-02T18:31:41.182185Z"
    },
    "jupyter": {
     "outputs_hidden": false
    }
   },
   "outputs": [],
   "source": [
    "def crop_center_square(frame):\n",
    "    y, x = frame.shape[0:2]\n",
    "    min_dim = min(y, x)\n",
    "    start_x = (x // 2) - (min_dim // 2)\n",
    "    start_y = (y // 2) - (min_dim // 2)\n",
    "    return frame[start_y : start_y + min_dim, start_x : start_x + min_dim]\n",
    "\n",
    "\n",
    "def load_video(path, max_frames=0, resize=(IMG_SIZE, IMG_SIZE)):\n",
    "    cap = cv2.VideoCapture(path)\n",
    "    frames = []\n",
    "    try:\n",
    "        while True:\n",
    "            ret, frame = cap.read()\n",
    "            if not ret:\n",
    "                break\n",
    "            frame = crop_center_square(frame)\n",
    "            frame = cv2.resize(frame, resize)\n",
    "            frame = frame[:, :, [2, 1, 0]]\n",
    "            frames.append(frame)\n",
    "\n",
    "            if len(frames) == max_frames:\n",
    "                break\n",
    "    finally:\n",
    "        cap.release()\n",
    "    return np.array(frames)"
   ]
  },
  {
   "cell_type": "code",
   "execution_count": null,
   "metadata": {
    "_cell_guid": "d3686227-c7ca-4e7e-926f-49d42b3c589f",
    "_uuid": "54bd8674-d7fc-47fb-8d98-dd1b277fb986",
    "collapsed": false,
    "execution": {
     "iopub.execute_input": "2024-06-02T18:31:41.197603Z",
     "iopub.status.busy": "2024-06-02T18:31:41.197325Z",
     "iopub.status.idle": "2024-06-02T18:31:44.104175Z",
     "shell.execute_reply": "2024-06-02T18:31:44.103163Z",
     "shell.execute_reply.started": "2024-06-02T18:31:41.197552Z"
    },
    "jupyter": {
     "outputs_hidden": false
    }
   },
   "outputs": [],
   "source": [
    "def build_feature_extractor():\n",
    "    feature_extractor = keras.applications.InceptionV3(\n",
    "        weights=\"imagenet\",\n",
    "        include_top=False,\n",
    "        pooling=\"avg\",\n",
    "        input_shape=(IMG_SIZE, IMG_SIZE, 3),\n",
    "    )\n",
    "    preprocess_input = keras.applications.inception_v3.preprocess_input\n",
    "\n",
    "    inputs = keras.Input((IMG_SIZE, IMG_SIZE, 3))\n",
    "    preprocessed = preprocess_input(inputs)\n",
    "\n",
    "    outputs = feature_extractor(preprocessed)\n",
    "    return keras.Model(inputs, outputs, name=\"feature_extractor\")\n",
    "\n",
    "\n",
    "feature_extractor = build_feature_extractor()"
   ]
  },
  {
   "cell_type": "code",
   "execution_count": 23,
   "metadata": {
    "_cell_guid": "b8ef00d0-3c48-425b-ac0b-db7ae404f882",
    "_uuid": "238b2b36-188c-40aa-a6e9-af628d9210d8",
    "collapsed": false,
    "execution": {
     "iopub.execute_input": "2024-06-02T18:31:44.106129Z",
     "iopub.status.busy": "2024-06-02T18:31:44.105807Z",
     "iopub.status.idle": "2024-06-02T18:31:44.120527Z",
     "shell.execute_reply": "2024-06-02T18:31:44.119533Z",
     "shell.execute_reply.started": "2024-06-02T18:31:44.106075Z"
    },
    "jupyter": {
     "outputs_hidden": false
    }
   },
   "outputs": [],
   "source": [
    "def prepare_all_videos(df, root_dir):\n",
    "    num_samples = len(df)\n",
    "    video_paths = list(df.index)\n",
    "    labels = df[\"label\"].values\n",
    "    labels = np.array(labels=='FAKE').astype(int)\n",
    "\n",
    "    frame_masks = np.zeros(shape=(num_samples, MAX_SEQ_LENGTH), dtype=\"bool\")\n",
    "    frame_features = np.zeros(\n",
    "        shape=(num_samples, MAX_SEQ_LENGTH, NUM_FEATURES), dtype=\"float32\"\n",
    "    )\n",
    "\n",
    "    # For each video.\n",
    "    for idx, path in enumerate(video_paths):\n",
    "        # Gather all its frames and add a batch dimension.\n",
    "        frames = load_video(os.path.join(root_dir, path))\n",
    "        frames = frames[None, ...]\n",
    "\n",
    "        # Initialize placeholders to store the masks and features of the current video.\n",
    "        temp_frame_mask = np.zeros(shape=(1, MAX_SEQ_LENGTH,), dtype=\"bool\")\n",
    "        temp_frame_features = np.zeros(\n",
    "            shape=(1, MAX_SEQ_LENGTH, NUM_FEATURES), dtype=\"float32\"\n",
    "        )\n",
    "\n",
    "        # Extract features from the frames of the current video.\n",
    "        for i, batch in enumerate(frames):\n",
    "            video_length = batch.shape[0]\n",
    "            length = min(MAX_SEQ_LENGTH, video_length)\n",
    "            for j in range(length):\n",
    "                temp_frame_features[i, j, :] = feature_extractor.predict(\n",
    "                    batch[None, j, :]\n",
    "                )\n",
    "            temp_frame_mask[i, :length] = 1  # 1 = not masked, 0 = masked\n",
    "\n",
    "        frame_features[idx,] = temp_frame_features.squeeze()\n",
    "        frame_masks[idx,] = temp_frame_mask.squeeze()\n",
    "\n",
    "    return (frame_features, frame_masks), labels"
   ]
  },
  {
   "cell_type": "code",
   "execution_count": null,
   "metadata": {
    "_cell_guid": "3ee6b12d-2397-46a2-93c1-c8f7713ac052",
    "_uuid": "b9c2bd51-4619-4996-9d80-b100e14cf21f",
    "collapsed": false,
    "execution": {
     "iopub.execute_input": "2024-06-02T18:31:44.122599Z",
     "iopub.status.busy": "2024-06-02T18:31:44.122165Z",
     "iopub.status.idle": "2024-06-02T18:31:44.139143Z",
     "shell.execute_reply": "2024-06-02T18:31:44.138062Z",
     "shell.execute_reply.started": "2024-06-02T18:31:44.122532Z"
    },
    "jupyter": {
     "outputs_hidden": false
    }
   },
   "outputs": [],
   "source": [
    "from sklearn.model_selection import train_test_split\n",
    "\n",
    "Train_set, Test_set = train_test_split(train_sample_metadata,test_size=0.1,random_state=42,stratify=train_sample_metadata['label'])\n",
    "\n",
    "print(Train_set.shape, Test_set.shape )"
   ]
  },
  {
   "cell_type": "code",
   "execution_count": null,
   "metadata": {
    "_cell_guid": "bcf57296-08b8-4a1a-925b-4c368767d4da",
    "_uuid": "287af885-01ee-4b5c-bcd3-3a48b1bfdf89",
    "collapsed": false,
    "execution": {
     "iopub.execute_input": "2024-06-02T18:31:44.140953Z",
     "iopub.status.busy": "2024-06-02T18:31:44.140627Z",
     "iopub.status.idle": "2024-06-02T18:31:44.229830Z",
     "shell.execute_reply": "2024-06-02T18:31:44.228867Z",
     "shell.execute_reply.started": "2024-06-02T18:31:44.140894Z"
    },
    "jupyter": {
     "outputs_hidden": false
    }
   },
   "outputs": [],
   "source": [
    "train_data, train_labels = prepare_all_videos(Train_set, \"train\")\n",
    "test_data, test_labels = prepare_all_videos(Test_set, \"test\")\n",
    "\n",
    "print(f\"Frame features in train set: {train_data[0].shape}\")\n",
    "print(f\"Frame masks in train set: {train_data[1].shape}\")"
   ]
  },
  {
   "cell_type": "code",
   "execution_count": null,
   "metadata": {
    "_cell_guid": "940d488b-31de-43c5-8022-eed2e1e08b92",
    "_uuid": "a3d68b96-8851-4ef5-9985-6edf1f18be6e",
    "collapsed": false,
    "execution": {
     "iopub.execute_input": "2024-06-02T18:31:44.231735Z",
     "iopub.status.busy": "2024-06-02T18:31:44.231417Z",
     "iopub.status.idle": "2024-06-02T18:31:47.515410Z",
     "shell.execute_reply": "2024-06-02T18:31:47.514599Z",
     "shell.execute_reply.started": "2024-06-02T18:31:44.231683Z"
    },
    "jupyter": {
     "outputs_hidden": false
    }
   },
   "outputs": [],
   "source": [
    "from keras.layers import Bidirectional, BatchNormalization\n",
    "\n",
    "frame_features_input = keras.Input((MAX_SEQ_LENGTH, NUM_FEATURES))\n",
    "mask_input = keras.Input((MAX_SEQ_LENGTH,), dtype=\"bool\")\n",
    "\n",
    "# Increase model complexity\n",
    "x = Bidirectional(keras.layers.GRU(128, return_sequences=True))(frame_features_input, mask=mask_input)\n",
    "x = BatchNormalization()(x)\n",
    "x = Bidirectional(keras.layers.GRU(64))(x)\n",
    "x = keras.layers.Dropout(0.5)(x)  # Increased dropout rate\n",
    "\n",
    "# Add more dense layers\n",
    "x = keras.layers.Dense(64, activation=\"relu\")(x)\n",
    "x = BatchNormalization()(x)\n",
    "x = keras.layers.Dense(32, activation=\"relu\")(x)\n",
    "\n",
    "# Output layer\n",
    "output = keras.layers.Dense(1, activation=\"sigmoid\")(x)\n",
    "\n",
    "# Model definition\n",
    "model = keras.Model([frame_features_input, mask_input], output)\n",
    "\n",
    "# Compile the model with a modified optimizer\n",
    "optimizer = keras.optimizers.Adam(learning_rate=0.001)\n",
    "model.compile(loss=\"binary_crossentropy\", optimizer=optimizer, metrics=[\"accuracy\"])\n",
    "\n",
    "# Model summary\n",
    "model.summary()\n"
   ]
  },
  {
   "cell_type": "code",
   "execution_count": null,
   "metadata": {
    "_cell_guid": "e80dcf27-452c-4a10-aa55-cd9b9b981301",
    "_uuid": "4750cb1d-604d-4963-a996-2120ac313b59",
    "collapsed": false,
    "execution": {
     "iopub.execute_input": "2024-06-02T18:31:47.517210Z",
     "iopub.status.busy": "2024-06-02T18:31:47.516890Z",
     "iopub.status.idle": "2024-06-02T18:31:49.767080Z",
     "shell.execute_reply": "2024-06-02T18:31:49.766244Z",
     "shell.execute_reply.started": "2024-06-02T18:31:47.517156Z"
    },
    "jupyter": {
     "outputs_hidden": false
    }
   },
   "outputs": [],
   "source": [
    "frame_features_input = keras.Input((MAX_SEQ_LENGTH, NUM_FEATURES))\n",
    "mask_input = keras.Input((MAX_SEQ_LENGTH,), dtype=\"bool\")\n",
    "\n",
    "# Increase model complexity\n",
    "x = keras.layers.GRU(64, return_sequences=True)(frame_features_input, mask=mask_input)\n",
    "x = keras.layers.GRU(32)(x)\n",
    "\n",
    "# Dropout for regularization (adjust dropout rate)\n",
    "x = keras.layers.Dropout(0.2)(x)\n",
    "\n",
    "# Increase units in dense layer\n",
    "x = keras.layers.Dense(32, activation=\"relu\")(x)\n",
    "\n",
    "# Output layer\n",
    "output = keras.layers.Dense(1, activation=\"sigmoid\")(x)\n",
    "\n",
    "# Model definition\n",
    "model = keras.Model([frame_features_input, mask_input], output)\n",
    "\n",
    "# Compile the model\n",
    "model.compile(loss=\"binary_crossentropy\", optimizer=\"adam\", metrics=[\"accuracy\"])\n",
    "\n",
    "# Model summary\n",
    "model.summary()"
   ]
  },
  {
   "cell_type": "code",
   "execution_count": null,
   "metadata": {
    "_cell_guid": "474f021a-e41b-4b70-9424-dd408702119e",
    "_uuid": "0e9f0948-53c9-420a-ab27-f063bbdd7340",
    "collapsed": false,
    "execution": {
     "iopub.execute_input": "2024-06-02T18:31:49.769127Z",
     "iopub.status.busy": "2024-06-02T18:31:49.768782Z",
     "iopub.status.idle": "2024-06-02T18:32:41.013633Z",
     "shell.execute_reply": "2024-06-02T18:32:41.012928Z",
     "shell.execute_reply.started": "2024-06-02T18:31:49.769061Z"
    },
    "jupyter": {
     "outputs_hidden": false
    }
   },
   "outputs": [],
   "source": [
    "checkpoint = keras.callbacks.ModelCheckpoint('./', save_weights_only=True, save_best_only=True)\n",
    "history = model.fit(\n",
    "        [train_data[0], train_data[1]],\n",
    "        train_labels,\n",
    "        validation_data=([test_data[0], test_data[1]],test_labels),\n",
    "        callbacks=[checkpoint],\n",
    "        epochs=10,\n",
    "        batch_size=2\n",
    "    )"
   ]
  },
  {
   "cell_type": "code",
   "execution_count": null,
   "metadata": {
    "_cell_guid": "d2197b36-2c17-4c8e-b4a5-bbdfc94d581f",
    "_uuid": "c7f38bda-6166-4697-9183-e12b58d69805",
    "collapsed": false,
    "execution": {
     "iopub.execute_input": "2024-06-02T18:32:41.015791Z",
     "iopub.status.busy": "2024-06-02T18:32:41.015439Z",
     "iopub.status.idle": "2024-06-02T18:32:41.354483Z",
     "shell.execute_reply": "2024-06-02T18:32:41.353382Z",
     "shell.execute_reply.started": "2024-06-02T18:32:41.015712Z"
    },
    "jupyter": {
     "outputs_hidden": false
    }
   },
   "outputs": [],
   "source": [
    "import matplotlib.pyplot as plt\n",
    "\n",
    "# Plot training & validation accuracy values\n",
    "plt.plot(history.history['accuracy'])\n",
    "plt.plot(history.history['val_accuracy'])\n",
    "plt.title('Model accuracy')\n",
    "plt.ylabel('Accuracy')\n",
    "plt.xlabel('Epoch')\n",
    "plt.legend(['Train', 'Validation'], loc='upper left')\n",
    "plt.show()\n",
    "\n",
    "# Plot training & validation loss values\n",
    "plt.plot(history.history['loss'])\n",
    "plt.plot(history.history['val_loss'])\n",
    "plt.title('Model loss')\n",
    "plt.ylabel('Loss')\n",
    "plt.xlabel('Epoch')\n",
    "plt.legend(['Train', 'Validation'], loc='upper left')\n",
    "plt.show()"
   ]
  },
  {
   "cell_type": "code",
   "execution_count": 30,
   "metadata": {
    "_cell_guid": "b5224ef2-dd64-409d-a8a4-5958786dff6e",
    "_uuid": "028c8262-d459-4802-9362-c442cccdf1ce",
    "collapsed": false,
    "execution": {
     "iopub.execute_input": "2024-06-02T18:32:41.357159Z",
     "iopub.status.busy": "2024-06-02T18:32:41.356453Z",
     "iopub.status.idle": "2024-06-02T18:32:41.377321Z",
     "shell.execute_reply": "2024-06-02T18:32:41.376203Z",
     "shell.execute_reply.started": "2024-06-02T18:32:41.357089Z"
    },
    "jupyter": {
     "outputs_hidden": false
    }
   },
   "outputs": [],
   "source": [
    "def prepare_single_video(frames):\n",
    "    frames = frames[None, ...]\n",
    "    frame_mask = np.zeros(shape=(1, MAX_SEQ_LENGTH,), dtype=\"bool\")\n",
    "    frame_features = np.zeros(shape=(1, MAX_SEQ_LENGTH, NUM_FEATURES), dtype=\"float32\")\n",
    "\n",
    "    for i, batch in enumerate(frames):\n",
    "        video_length = batch.shape[0]\n",
    "        length = min(MAX_SEQ_LENGTH, video_length)\n",
    "        for j in range(length):\n",
    "            frame_features[i, j, :] = feature_extractor.predict(batch[None, j, :])\n",
    "        frame_mask[i, :length] = 1  # 1 = not masked, 0 = masked\n",
    "\n",
    "    return frame_features, frame_mask\n",
    "\n",
    "def sequence_prediction(path):\n",
    "    frames = load_video(os.path.join(DATA_FOLDER, TEST_FOLDER,path))\n",
    "    frame_features, frame_mask = prepare_single_video(frames)\n",
    "    return model.predict([frame_features, frame_mask])[0]\n",
    "    \n",
    "# This utility is for visualization.\n",
    "# Referenced from:\n",
    "# https://www.tensorflow.org/hub/tutorials/action_recognition_with_tf_hub\n",
    "def to_gif(images):\n",
    "    converted_images = images.astype(np.uint8)\n",
    "    imageio.mimsave(\"animation.gif\", converted_images, fps=30)\n",
    "    return embed.embed_file(\"animation.gif\")"
   ]
  },
  {
   "cell_type": "code",
   "execution_count": null,
   "metadata": {
    "_cell_guid": "6350459b-221c-461e-951a-c643b6fb8f9c",
    "_uuid": "4e3228e9-2f36-4760-8617-bd47d6ff83a2",
    "collapsed": false,
    "execution": {
     "iopub.execute_input": "2024-06-02T18:32:41.379756Z",
     "iopub.status.busy": "2024-06-02T18:32:41.379131Z",
     "iopub.status.idle": "2024-06-02T18:32:48.554406Z",
     "shell.execute_reply": "2024-06-02T18:32:48.550968Z",
     "shell.execute_reply.started": "2024-06-02T18:32:41.379691Z"
    },
    "jupyter": {
     "outputs_hidden": false
    }
   },
   "outputs": [],
   "source": [
    "test_video = \"/kaggle/input/deepfake-detection-challenge/train_sample_videos/aelfnikyqj.mp4\"\n",
    "print(f\"Test video path: {test_video}\")\n",
    "\n",
    "if(sequence_prediction(test_video)<=0.5):\n",
    "    print(f'The predicted class of the video is FAKE')\n",
    "else:\n",
    "    print(f'The predicted class of the video is REAL')\n",
    "\n",
    "play_video(test_video,TEST_FOLDER)"
   ]
  },
  {
   "cell_type": "code",
   "execution_count": null,
   "metadata": {
    "_cell_guid": "18dbdba7-a9c3-4b78-bdd1-35a34664bf8d",
    "_uuid": "3662c944-9d6e-4b89-af89-2026891f17d4",
    "collapsed": false,
    "execution": {
     "iopub.execute_input": "2024-06-02T18:32:48.558785Z",
     "iopub.status.busy": "2024-06-02T18:32:48.558479Z",
     "iopub.status.idle": "2024-06-02T18:32:52.837900Z",
     "shell.execute_reply": "2024-06-02T18:32:52.836274Z",
     "shell.execute_reply.started": "2024-06-02T18:32:48.558723Z"
    },
    "jupyter": {
     "outputs_hidden": false
    }
   },
   "outputs": [],
   "source": [
    "test_video = \"/kaggle/input/deepfake-detection-challenge/train_sample_videos/aagfhgtpmv.mp4\"\n",
    "print(f\"Test video path: {test_video}\")\n",
    "\n",
    "if(sequence_prediction(test_video)<=0.5):\n",
    "    print(f'The predicted class of the video is FAKE')\n",
    "else:\n",
    "    print(f'The predicted class of the video is REAL')\n",
    "    \n",
    "\n",
    "play_video(test_video,TEST_FOLDER)"
   ]
  },
  {
   "cell_type": "code",
   "execution_count": null,
   "metadata": {
    "_cell_guid": "84264ed6-98f6-44c1-aedd-a0fb9d6512d3",
    "_uuid": "7cf3ac6a-e5bb-4658-a34d-f468a0017559",
    "collapsed": false,
    "execution": {
     "iopub.execute_input": "2024-06-02T18:32:52.840993Z",
     "iopub.status.busy": "2024-06-02T18:32:52.840444Z",
     "iopub.status.idle": "2024-06-02T18:34:35.709498Z",
     "shell.execute_reply": "2024-06-02T18:34:35.708738Z",
     "shell.execute_reply.started": "2024-06-02T18:32:52.840898Z"
    },
    "jupyter": {
     "outputs_hidden": false
    }
   },
   "outputs": [],
   "source": [
    "from sklearn.model_selection import KFold\n",
    "from tensorflow import keras\n",
    "from tensorflow.keras.callbacks import EarlyStopping, LearningRateScheduler\n",
    "import numpy as np\n",
    "\n",
    "def build_model():\n",
    "    from keras.layers import Bidirectional, BatchNormalization\n",
    "\n",
    "    frame_features_input = keras.Input((MAX_SEQ_LENGTH, NUM_FEATURES))\n",
    "    mask_input = keras.Input((MAX_SEQ_LENGTH,), dtype=\"bool\")\n",
    "\n",
    "    # Increase model complexity\n",
    "    x = Bidirectional(keras.layers.GRU(128, return_sequences=True))(frame_features_input, mask=mask_input)\n",
    "    x = BatchNormalization()(x)\n",
    "    x = Bidirectional(keras.layers.GRU(64))(x)\n",
    "    x = keras.layers.Dropout(0.5)(x)  # Increased dropout rate\n",
    "\n",
    "    # Add more dense layers\n",
    "    x = keras.layers.Dense(64, activation=\"relu\")(x)\n",
    "    x = BatchNormalization()(x)\n",
    "    x = keras.layers.Dense(32, activation=\"relu\")(x)\n",
    "\n",
    "    # Output layer\n",
    "    output = keras.layers.Dense(1, activation=\"sigmoid\")(x)\n",
    "\n",
    "    # Model definition\n",
    "    model = keras.Model([frame_features_input, mask_input], output)\n",
    "\n",
    "    # Compile the model with a modified optimizer\n",
    "    optimizer = keras.optimizers.Adam(learning_rate=0.001)\n",
    "    model.compile(loss=\"binary_crossentropy\", optimizer=optimizer, metrics=[\"accuracy\"])\n",
    "\n",
    "    # Model summary\n",
    "    return model\n",
    "\n",
    "\n",
    "def scheduler(epoch, lr):\n",
    "    if epoch < 10:\n",
    "        return lr\n",
    "    else:\n",
    "        return lr * tf.math.exp(-0.1)\n",
    "\n",
    "kf = KFold(n_splits=5, shuffle=True, random_state=42)\n",
    "\n",
    "all_features = np.random.randn(100, MAX_SEQ_LENGTH, NUM_FEATURES)  \n",
    "all_labels = np.random.randint(2, size=(100, 1))                  \n",
    "\n",
    "fold_no = 1\n",
    "for train_index, test_index in kf.split(all_features):\n",
    "    train_features, test_features = all_features[train_index], all_features[test_index]\n",
    "    train_labels, test_labels = all_labels[train_index], all_labels[test_index]\n",
    "    \n",
    "    train_mask = np.ones((train_features.shape[0], MAX_SEQ_LENGTH), dtype=bool)\n",
    "    test_mask = np.ones((test_features.shape[0], MAX_SEQ_LENGTH), dtype=bool)\n",
    "    \n",
    "    model = build_model()\n",
    "\n",
    "    lr_scheduler = LearningRateScheduler(scheduler)\n",
    "    early_stopping = EarlyStopping(monitor='val_loss', patience=5)\n",
    "\n",
    "    print(f'Training for fold {fold_no}...')\n",
    "    history = model.fit(\n",
    "        [train_features, train_mask], \n",
    "        train_labels,\n",
    "        validation_data=([test_features, test_mask], test_labels),\n",
    "        epochs=30,\n",
    "        batch_size=10,\n",
    "        callbacks=[lr_scheduler, early_stopping]\n",
    "    )\n",
    "    \n",
    "    fold_no += 1\n"
   ]
  },
  {
   "cell_type": "code",
   "execution_count": null,
   "metadata": {
    "execution": {
     "iopub.execute_input": "2024-06-02T18:34:35.711628Z",
     "iopub.status.busy": "2024-06-02T18:34:35.711295Z",
     "iopub.status.idle": "2024-06-02T18:34:35.720167Z",
     "shell.execute_reply": "2024-06-02T18:34:35.719231Z",
     "shell.execute_reply.started": "2024-06-02T18:34:35.711567Z"
    }
   },
   "outputs": [],
   "source": [
    "model.summary()"
   ]
  },
  {
   "cell_type": "code",
   "execution_count": null,
   "metadata": {
    "execution": {
     "iopub.execute_input": "2024-06-02T18:34:35.721815Z",
     "iopub.status.busy": "2024-06-02T18:34:35.721547Z",
     "iopub.status.idle": "2024-06-02T18:34:42.480541Z",
     "shell.execute_reply": "2024-06-02T18:34:42.478557Z",
     "shell.execute_reply.started": "2024-06-02T18:34:35.721762Z"
    }
   },
   "outputs": [],
   "source": [
    "test_video = \"/kaggle/input/srkiisfake/WhatsApp Video 2024-05-10 at 16.50.47_5f4b00c2.mp4\"\n",
    "print(f\"Test video path: {test_video}\")\n",
    "\n",
    "if(sequence_prediction(test_video)<=0.5):\n",
    "    print(f'The predicted class of the video is FAKE')\n",
    "else:\n",
    "    print(f'The predicted class of the video is REAL')\n",
    "    \n",
    "\n",
    "play_video(test_video,TEST_FOLDER)"
   ]
  },
  {
   "cell_type": "code",
   "execution_count": null,
   "metadata": {
    "execution": {
     "iopub.execute_input": "2024-06-02T18:34:42.482790Z",
     "iopub.status.busy": "2024-06-02T18:34:42.482475Z",
     "iopub.status.idle": "2024-06-02T18:34:44.941748Z",
     "shell.execute_reply": "2024-06-02T18:34:44.940939Z",
     "shell.execute_reply.started": "2024-06-02T18:34:42.482740Z"
    }
   },
   "outputs": [],
   "source": [
    "from time import time\n",
    "start_time=time()\n",
    "test_video = \"/kaggle/input/yashraj/final_WhatsApp_Video_2024-05-16_at_1.24.11_PM-1715846270537-1735-945ab71d-dffd-4200-ba1a-43548d8b6a74-9455.mp4\"\n",
    "print(f\"Test video path: {test_video}\")\n",
    "\n",
    "if(sequence_prediction(test_video)<=0.5):\n",
    "    print(f'The predicted class of the video is FAKE')\n",
    "    print(time()-start_time)\n",
    "else:\n",
    "    print(f'The predicted class of the video is REAL')\n",
    "    print(time()-start_time)\n",
    "    \n",
    "\n",
    "play_video(test_video,TEST_FOLDER)"
   ]
  },
  {
   "cell_type": "code",
   "execution_count": 37,
   "metadata": {
    "execution": {
     "iopub.execute_input": "2024-06-02T18:35:19.450153Z",
     "iopub.status.busy": "2024-06-02T18:35:19.449802Z",
     "iopub.status.idle": "2024-06-02T18:35:19.536916Z",
     "shell.execute_reply": "2024-06-02T18:35:19.536150Z",
     "shell.execute_reply.started": "2024-06-02T18:35:19.450090Z"
    }
   },
   "outputs": [],
   "source": [
    "model.save('my_model.h5')"
   ]
  }
 ],
 "metadata": {
  "kaggle": {
   "accelerator": "gpu",
   "dataSources": [
    {
     "databundleVersionId": 858837,
     "sourceId": 16880,
     "sourceType": "competition"
    },
    {
     "datasetId": 464091,
     "sourceId": 924245,
     "sourceType": "datasetVersion"
    },
    {
     "datasetId": 5018244,
     "sourceId": 8427521,
     "sourceType": "datasetVersion"
    },
    {
     "datasetId": 5018371,
     "sourceId": 8427677,
     "sourceType": "datasetVersion"
    },
    {
     "datasetId": 5019064,
     "sourceId": 8428577,
     "sourceType": "datasetVersion"
    }
   ],
   "dockerImageVersionId": 29845,
   "isGpuEnabled": true,
   "isInternetEnabled": true,
   "language": "python",
   "sourceType": "notebook"
  },
  "kernelspec": {
   "display_name": "Python 3",
   "language": "python",
   "name": "python3"
  },
  "language_info": {
   "codemirror_mode": {
    "name": "ipython",
    "version": 3
   },
   "file_extension": ".py",
   "mimetype": "text/x-python",
   "name": "python",
   "nbconvert_exporter": "python",
   "pygments_lexer": "ipython3",
   "version": "3.10.7"
  }
 },
 "nbformat": 4,
 "nbformat_minor": 4
}
